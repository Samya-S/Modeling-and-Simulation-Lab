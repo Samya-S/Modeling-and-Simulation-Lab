{
 "cells": [
  {
   "cell_type": "code",
   "execution_count": 2,
   "metadata": {},
   "outputs": [],
   "source": [
    "import sympy as sp"
   ]
  },
  {
   "cell_type": "code",
   "execution_count": 3,
   "metadata": {},
   "outputs": [],
   "source": [
    "x, y = sp.symbols('x y')"
   ]
  },
  {
   "cell_type": "code",
   "execution_count": 4,
   "metadata": {},
   "outputs": [],
   "source": [
    "a = 0.5\n",
    "b = 0.02\n",
    "c = 0.4\n",
    "d = 0.01"
   ]
  },
  {
   "cell_type": "code",
   "execution_count": 5,
   "metadata": {},
   "outputs": [],
   "source": [
    "eq1 = x * (a - b*x - c*y)\n",
    "eq2 = y * (-c + d*x*y)"
   ]
  },
  {
   "cell_type": "code",
   "execution_count": 6,
   "metadata": {},
   "outputs": [],
   "source": [
    "jacobian_matrix = sp.Matrix([[sp.diff(eq1, x), sp.diff(eq1, y)], [sp.diff(eq2, x), sp.diff(eq2, y)]])"
   ]
  },
  {
   "cell_type": "code",
   "execution_count": 7,
   "metadata": {},
   "outputs": [],
   "source": [
    "eq_points = sp.solve([eq1, eq2], (x, y))"
   ]
  },
  {
   "cell_type": "code",
   "execution_count": 8,
   "metadata": {},
   "outputs": [],
   "source": [
    "eigenvalues = []\n",
    "\n",
    "for point in eq_points:\n",
    "    J_at_point = jacobian_matrix.subs({x: point[0], y: point[1]})\n",
    "    eigvals = J_at_point.eigenvals()\n",
    "    eigenvalues.append((point, eigvals))"
   ]
  },
  {
   "cell_type": "code",
   "execution_count": 10,
   "metadata": {},
   "outputs": [
    {
     "name": "stdout",
     "output_type": "stream",
     "text": [
      "Equilibrium Point: (0.0, 0.0)\n",
      "Eigenvalues:\n",
      "0.500000000000000\n",
      "-0.400000000000000\n",
      "------------\n",
      "Equilibrium Point: (25.0000000000000, 0.0)\n",
      "Eigenvalues:\n",
      "-0.500000000000000\n",
      "-0.400000000000000\n",
      "------------\n",
      "Equilibrium Point: (12.5 - 25.3722289127305*I, 0.625 + 1.26861144563653*I)\n",
      "Eigenvalues:\n",
      "-0.32111155007393 + 0.718108292471476*I\n",
      "0.47111155007393 - 0.210663714216865*I\n",
      "------------\n",
      "Equilibrium Point: (12.5 + 25.3722289127305*I, 0.625 - 1.26861144563653*I)\n",
      "Eigenvalues:\n",
      "-0.32111155007393 - 0.718108292471476*I\n",
      "0.47111155007393 + 0.210663714216865*I\n",
      "------------\n"
     ]
    }
   ],
   "source": [
    "for point, eigvals in eigenvalues:\n",
    "    print(f\"Equilibrium Point: {point}\")\n",
    "    print(\"Eigenvalues:\")\n",
    "    for eigval in eigvals:\n",
    "        print(eigval)\n",
    "    print(\"------------\")"
   ]
  }
 ],
 "metadata": {
  "kernelspec": {
   "display_name": "Python 3",
   "language": "python",
   "name": "python3"
  },
  "language_info": {
   "codemirror_mode": {
    "name": "ipython",
    "version": 3
   },
   "file_extension": ".py",
   "mimetype": "text/x-python",
   "name": "python",
   "nbconvert_exporter": "python",
   "pygments_lexer": "ipython3",
   "version": "3.12.8"
  }
 },
 "nbformat": 4,
 "nbformat_minor": 2
}
