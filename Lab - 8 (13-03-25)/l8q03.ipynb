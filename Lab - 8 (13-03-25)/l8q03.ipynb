{
 "cells": [
  {
   "cell_type": "code",
   "execution_count": 10,
   "metadata": {},
   "outputs": [],
   "source": [
    "import numpy as np\n",
    "import matplotlib.pyplot as plt"
   ]
  },
  {
   "cell_type": "markdown",
   "metadata": {},
   "source": [
    "### Velocity components\n"
   ]
  },
  {
   "cell_type": "code",
   "execution_count": 11,
   "metadata": {},
   "outputs": [],
   "source": [
    "def u(x, y):\n",
    "    return -y\n",
    "\n",
    "def v(x, y):\n",
    "    return x"
   ]
  },
  {
   "cell_type": "code",
   "execution_count": 12,
   "metadata": {},
   "outputs": [],
   "source": [
    "# Numerical partial derivative using finite differences\n",
    "def partial_derivative(func, var, x, y, delta=1e-5):\n",
    "    if var == 'x':\n",
    "        return (func(x + delta, y) - func(x, y)) / delta\n",
    "    elif var == 'y':\n",
    "        return (func(x, y + delta) - func(x, y)) / delta"
   ]
  },
  {
   "cell_type": "markdown",
   "metadata": {},
   "source": [
    "### Define vorticity at the point (x, y)\n"
   ]
  },
  {
   "cell_type": "code",
   "execution_count": 13,
   "metadata": {},
   "outputs": [],
   "source": [
    "def vorticity(x, y):\n",
    "    dv_dx = partial_derivative(v, 'x', x, y)\n",
    "    du_dy = partial_derivative(u, 'y', x, y)    \n",
    "    return dv_dx - du_dy"
   ]
  },
  {
   "cell_type": "code",
   "execution_count": 14,
   "metadata": {},
   "outputs": [
    {
     "name": "stdout",
     "output_type": "stream",
     "text": [
      "Vorticity at (x, y) = (2, -1): ω = 2.000000000002\n"
     ]
    }
   ],
   "source": [
    "# Point at (x, y) = (2, -1)\n",
    "x, y = 2, -1\n",
    "omega = vorticity(x, y)\n",
    "print(f\"Vorticity at (x, y) = ({x}, {y}): ω = {omega}\")"
   ]
  }
 ],
 "metadata": {
  "kernelspec": {
   "display_name": "Python 3",
   "language": "python",
   "name": "python3"
  },
  "language_info": {
   "codemirror_mode": {
    "name": "ipython",
    "version": 3
   },
   "file_extension": ".py",
   "mimetype": "text/x-python",
   "name": "python",
   "nbconvert_exporter": "python",
   "pygments_lexer": "ipython3",
   "version": "3.12.8"
  }
 },
 "nbformat": 4,
 "nbformat_minor": 2
}
